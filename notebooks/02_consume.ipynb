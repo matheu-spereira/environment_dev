{
 "cells": [
  {
   "cell_type": "code",
   "execution_count": 10,
   "id": "5a409d3d-41a6-47ec-9474-b392da225d43",
   "metadata": {},
   "outputs": [],
   "source": [
    "# Import required libraries\n",
    "from pyspark.sql import SparkSession\n",
    "from lib.spark_session import get_spark_session\n",
    "from delta.tables import DeltaTable\n",
    "\n",
    "spark.sparkContext.setLogLevel(\"ERROR\")"
   ]
  },
  {
   "cell_type": "code",
   "execution_count": 11,
   "id": "4902894e-cdeb-4eed-88f4-a0f81e6c440d",
   "metadata": {},
   "outputs": [],
   "source": [
    "# Generate SparkSession\n",
    "spark: SparkSession = get_spark_session(\"Consume\")"
   ]
  },
  {
   "cell_type": "code",
   "execution_count": 12,
   "id": "d5901d52-b711-4c91-9713-afce7f56f475",
   "metadata": {},
   "outputs": [],
   "source": [
    "df_employees = spark.read.format(\"delta\").load(emp_path)"
   ]
  },
  {
   "cell_type": "code",
   "execution_count": 13,
   "id": "73252f6c-caf7-4c41-81c0-f285fd73dfc6",
   "metadata": {},
   "outputs": [
    {
     "name": "stdout",
     "output_type": "stream",
     "text": [
      "+------+--------+---------+-------+\n",
      "|emp_id|emp_name|dept_code| salary|\n",
      "+------+--------+---------+-------+\n",
      "|  1003| Charlie|     D103|75000.0|\n",
      "|  1004|   David|     D104|65000.0|\n",
      "|  1005|     Eve|     D105|70000.0|\n",
      "|  1003| Charlie|     D103|75000.0|\n",
      "|  1004|   David|     D104|65000.0|\n",
      "|  1005|     Eve|     D105|70000.0|\n",
      "|  1003| Charlie|     D103|75000.0|\n",
      "|  1004|   David|     D104|65000.0|\n",
      "|  1005|     Eve|     D105|70000.0|\n",
      "|  1001|   Alice|     D101|55000.0|\n",
      "|  1002|     Bob|     D102|60000.0|\n",
      "|  1001|   Alice|     D101|55000.0|\n",
      "|  1002|     Bob|     D102|60000.0|\n",
      "|  1001|   Alice|     D101|55000.0|\n",
      "|  1002|     Bob|     D102|60000.0|\n",
      "+------+--------+---------+-------+\n",
      "\n"
     ]
    }
   ],
   "source": [
    "df_employees.show()"
   ]
  },
  {
   "cell_type": "code",
   "execution_count": 17,
   "id": "c20ba885-98a2-4042-a6f6-db5ab083b52b",
   "metadata": {},
   "outputs": [],
   "source": [
    "# Parâmetros de conexão\n",
    "url = \"jdbc:postgresql://dw:5432/postgres\"\n",
    "tabela = \"public.empregados\"\n",
    "usuario = \"dw\"\n",
    "senha = \"postgres\"\n",
    "driver = \"org.postgresql.Driver\"\n",
    "\n",
    "# Grava no PostgreSQL\n",
    "df_employees.write \\\n",
    "  .format(\"jdbc\") \\\n",
    "  .option(\"url\", url) \\\n",
    "  .option(\"dbtable\", tabela) \\\n",
    "  .option(\"user\", usuario) \\\n",
    "  .option(\"password\", senha) \\\n",
    "  .option(\"driver\", driver) \\\n",
    "  .mode(\"overwrite\") \\\n",
    "  .save()"
   ]
  },
  {
   "cell_type": "code",
   "execution_count": 18,
   "id": "ac5f2976-7182-44d7-a309-e375dc7bf7e1",
   "metadata": {},
   "outputs": [],
   "source": [
    "spark.stop()"
   ]
  },
  {
   "cell_type": "code",
   "execution_count": null,
   "id": "2d935781-3fdb-44ab-b936-7b26674815a6",
   "metadata": {},
   "outputs": [],
   "source": []
  }
 ],
 "metadata": {
  "kernelspec": {
   "display_name": "Python 3 (ipykernel)",
   "language": "python",
   "name": "python3"
  },
  "language_info": {
   "codemirror_mode": {
    "name": "ipython",
    "version": 3
   },
   "file_extension": ".py",
   "mimetype": "text/x-python",
   "name": "python",
   "nbconvert_exporter": "python",
   "pygments_lexer": "ipython3",
   "version": "3.12.11"
  }
 },
 "nbformat": 4,
 "nbformat_minor": 5
}
